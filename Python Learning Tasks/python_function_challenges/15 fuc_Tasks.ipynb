{
  "nbformat": 4,
  "nbformat_minor": 0,
  "metadata": {
    "colab": {
      "provenance": [],
      "collapsed_sections": [
        "-3okVNlLDKxD"
      ]
    },
    "kernelspec": {
      "name": "python3",
      "display_name": "Python 3"
    },
    "language_info": {
      "name": "python"
    }
  },
  "cells": [
    {
      "cell_type": "markdown",
      "source": [
        "# Task 1  Grade_to_percentage"
      ],
      "metadata": {
        "id": "jx4GOLaWfnRi"
      }
    },
    {
      "cell_type": "code",
      "source": [
        "def sslc_grad_to_percentage():\n",
        "  grades={'A+':9,'A':8,\n",
        "          'B+':7,'B':6,\n",
        "          'C+':5,'C':4,\n",
        "          'D+':3,'D':2,\n",
        "          'E+':1,'E':0}\n",
        "  Subjects=['Malayalam','Arabic','IT','Physics','Cheymistry','English',\n",
        "            'Biology','Hindi','Mathamatics',\n",
        "            'Social Sceince']\n",
        "\n",
        "  grad={}\n",
        "  for sub in Subjects:\n",
        "    x=input(f'Enter your Grade in {sub}  :').upper()\n",
        "    if x in grades:\n",
        "      grad[sub]=grades[x]\n",
        "\n",
        "  if len(Subjects)== len(grad):\n",
        "    total_mark= sum(grad.values())\n",
        "  # conver to percentage\n",
        "    percentage= total_mark*100/90\n",
        "    x=round(percentage)\n",
        "    print('Congratulations............')\n",
        "    print('Your SSLC Mark Percentage is :',x,'%')\n",
        "  else:\n",
        "    print('Somthing Wrong, Try Again...')\n",
        "\n",
        "\n",
        "sslc=sslc_grad_to_percentage\n",
        "a=int(input('''Choose Your Option \\n 1 for SSLC Marks Percentage\n",
        "\\n 2 for +2 Marks to Percentage\\n'''))\n",
        "if a == 1:\n",
        "  print(sslc())\n",
        "elif a==2:\n",
        "  print('this function not ready yet , Please wait')\n",
        "else:\n",
        "  print('Try Again')\n",
        "\n"
      ],
      "metadata": {
        "colab": {
          "base_uri": "https://localhost:8080/"
        },
        "id": "b5B5Lsly8FNS",
        "outputId": "585c01fe-3dfb-4701-a0b2-e6805267ec69"
      },
      "execution_count": null,
      "outputs": [
        {
          "output_type": "stream",
          "name": "stdout",
          "text": [
            "Choose Your Option \n",
            " 1 for SSLC Marks Percentage \n",
            "\n",
            " 2 for +2 Marks to Percentage\n",
            "1\n",
            "Enter your Grade in Malayalam  :A\n",
            "Enter your Grade in Arabic  :D\n",
            "Enter your Grade in IT  :E\n",
            "Enter your Grade in Physics  :E\n",
            "Enter your Grade in Cheymistry  :E\n",
            "Enter your Grade in English  :E\n",
            "Enter your Grade in Biology  :E\n",
            "Enter your Grade in Hindi  :E\n",
            "Enter your Grade in Mathamatics  :E\n",
            "Enter your Grade in Social Sceince  :E\n",
            "Congratulations............\n",
            "Your SSLC Mark Percentage is : 11 %\n",
            "None\n"
          ]
        }
      ]
    },
    {
      "cell_type": "code",
      "source": [
        "35\n"
      ],
      "metadata": {
        "id": "5BQn19IbCaGm"
      },
      "execution_count": null,
      "outputs": []
    },
    {
      "cell_type": "code",
      "source": [],
      "metadata": {
        "id": "v_cYRmvbD7sQ"
      },
      "execution_count": null,
      "outputs": []
    },
    {
      "cell_type": "markdown",
      "source": [],
      "metadata": {
        "id": "glMxze8c6JX2"
      }
    },
    {
      "cell_type": "markdown",
      "source": [
        "# Task 2 sum_even_odd"
      ],
      "metadata": {
        "id": "LcLFXmh5fCEZ"
      }
    },
    {
      "cell_type": "markdown",
      "source": [
        "Description: Write a Python function called sum_even_odd that takes a list of integers as input and returns a tuple containing the sum of even numbers and the sum of odd numbers in the list.\n",
        "\n",
        "Example:\n",
        "\n",
        "python\n",
        "Copy code\n",
        "##### Example Input\n",
        "numbers = [1, 2, 3, 4, 5, 6, 7, 8, 9, 10]\n",
        "\n",
        "##### Expected Output\n",
        "##### Tuple (sum_of_even, sum_of_odd)\n",
        "##### (30, 25)"
      ],
      "metadata": {
        "id": "_bD4vqoYbvjU"
      }
    },
    {
      "cell_type": "code",
      "source": [
        "def sum_even_odd():\n",
        "  l1=input('Enter the numbers')\n",
        "  l2 = list(map(float,l1.split(',')))\n",
        "\n",
        "  even=[]\n",
        "  odd=[]\n",
        "\n",
        "  for i in l2:\n",
        "    if i % 2== 0:\n",
        "      even.append(i)\n",
        "    else:\n",
        "      odd.append(i)\n",
        "  total=(round(sum(even)),round(sum(odd)))\n",
        "  return total\n",
        "\n",
        "sum_even_odd()\n"
      ],
      "metadata": {
        "id": "ON0H5gVgbxzy"
      },
      "execution_count": null,
      "outputs": []
    },
    {
      "cell_type": "markdown",
      "source": [
        "# Task 3 reverse_words"
      ],
      "metadata": {
        "id": "EbduI1rDfMVS"
      }
    },
    {
      "cell_type": "markdown",
      "source": [
        "Description: Write a Python function called reverse_words that takes a string as input and returns a new string with the words reversed.\n",
        "\n",
        "Example:\n",
        "\n",
        "python\n",
        "Copy code\n",
        "##### Example Input\n",
        "input_string = \"Hello World\"\n",
        "\n",
        "##### Expected Output\n",
        "##### \"olleH dlroW\"\n",
        "Write the reverse_words function, and once you're done, share the code with me. I'll check it and provide feedback!"
      ],
      "metadata": {
        "id": "BvYiYYrjeh5D"
      }
    },
    {
      "cell_type": "code",
      "source": [
        "def revers_words():\n",
        "  string=input('Enter your name for to reverse:')\n",
        "  string=string.split(' ')\n",
        "  leng=len(string)\n",
        "  x=''\n",
        "  for i in string:\n",
        "    x+= i[::-1]\n",
        "    x+= ' '\n",
        "  result= x[:-1]\n",
        "  return result\n",
        "\n",
        "revers_words()"
      ],
      "metadata": {
        "colab": {
          "base_uri": "https://localhost:8080/"
        },
        "id": "_TqgCYAYcHT4",
        "outputId": "95c4b7e2-a95b-4ece-ad73-6d8510ee63fd"
      },
      "execution_count": null,
      "outputs": [
        {
          "name": "stdout",
          "output_type": "stream",
          "text": [
            "Enter your name for to reverse:Hello World\n"
          ]
        },
        {
          "output_type": "execute_result",
          "data": {
            "text/plain": [
              "'olleH dlroW'"
            ],
            "application/vnd.google.colaboratory.intrinsic+json": {
              "type": "string"
            }
          },
          "metadata": {},
          "execution_count": 127
        }
      ]
    },
    {
      "cell_type": "code",
      "source": [
        "def reverse_words():\n",
        "    input_string = input('Enter a string to reverse: ')\n",
        "    words = input_string.split()\n",
        "\n",
        "    reversed_words = [word[::-1] for word in words]\n",
        "    result = ' '.join(reversed_words)\n",
        "\n",
        "    return result\n",
        "\n",
        "# Test the function\n",
        "print(reverse_words())\n"
      ],
      "metadata": {
        "colab": {
          "base_uri": "https://localhost:8080/"
        },
        "id": "lEcTzSpKJvi_",
        "outputId": "71812e07-fc07-4c81-f6f6-0b0515da9729"
      },
      "execution_count": null,
      "outputs": [
        {
          "output_type": "stream",
          "name": "stdout",
          "text": [
            "Enter a string to reverse: Hello World\n",
            "olleH dlroW\n"
          ]
        }
      ]
    },
    {
      "cell_type": "markdown",
      "source": [
        "# Test 4 common_elements"
      ],
      "metadata": {
        "id": "m9NBPk4kbvrL"
      }
    },
    {
      "cell_type": "markdown",
      "source": [
        "\n",
        "Description: Write a Python function called common_elements that takes two lists as input and returns a new list containing the common elements between the two input lists. The order of elements in the result does not matter.\n",
        "\n",
        "Example:\n",
        "\n",
        "python\n",
        "Copy code\n",
        "#### Example Input\n",
        "list1 = [1, 2, 3, 4, 5]\n",
        "list2 = [4, 5, 6, 7, 8]\n",
        "\n",
        "#### Expected Output\n",
        "#### [4, 5]\n",
        "Write the common_elements function, and once you're done, share the code with me. I'll check it and provide feedback!"
      ],
      "metadata": {
        "id": "g_NE0c-HZuHL"
      }
    },
    {
      "cell_type": "code",
      "source": [
        "def common_elements(list1,list2):\n",
        "  convert=set(list1)&set(list2)\n",
        "  return list(convert)\n",
        "\n",
        "\n",
        "list1=[1, 2, 3, 4, 5]\n",
        "list2=[4, 5, 6, 7, 8]\n",
        "common_elements(list1,list2)"
      ],
      "metadata": {
        "colab": {
          "base_uri": "https://localhost:8080/"
        },
        "id": "jtViE0-lcKzj",
        "outputId": "c4a691fe-06b7-4ba6-a674-67b3995ea055"
      },
      "execution_count": null,
      "outputs": [
        {
          "output_type": "execute_result",
          "data": {
            "text/plain": [
              "[4, 5]"
            ]
          },
          "metadata": {},
          "execution_count": 144
        }
      ]
    },
    {
      "cell_type": "code",
      "source": [],
      "metadata": {
        "id": "Lms3Gupx3Fuh"
      },
      "execution_count": null,
      "outputs": []
    },
    {
      "cell_type": "code",
      "source": [],
      "metadata": {
        "id": "61-A_Key6BcH"
      },
      "execution_count": null,
      "outputs": []
    },
    {
      "cell_type": "markdown",
      "source": [
        "# Task 5 remove_duplicates"
      ],
      "metadata": {
        "id": "GqM219iI6LJW"
      }
    },
    {
      "cell_type": "markdown",
      "source": [
        "Description: Write a Python function called remove_duplicates that takes a list as input and returns a new list with duplicates removed while maintaining the original order of elements.\n",
        "\n",
        "Example:\n",
        "\n",
        "python\n",
        "Copy code\n",
        " Example Input\n",
        "input_list = [1, 2, 2, 3, 4, 4, 5]\n",
        "\n",
        " Expected Output\n",
        " [1, 2, 3, 4, 5]\n",
        "Write the remove_duplicates function, and once you're done, share the code with me. I'll check it and provide feedback!"
      ],
      "metadata": {
        "id": "wxo_MxlU6qMu"
      }
    },
    {
      "cell_type": "code",
      "source": [
        "def remove_duplicates(list1):\n",
        "  set_list=set(list1)\n",
        "  return list(set_list)\n",
        "\n",
        "list1=[1, 2, 2, 3, 4, 4, 5]\n",
        "remove_duplicates(list1)"
      ],
      "metadata": {
        "colab": {
          "base_uri": "https://localhost:8080/"
        },
        "id": "E76uKaY46Mk3",
        "outputId": "ba297a04-d29b-4bc7-fcf5-4f2ab20616ff"
      },
      "execution_count": null,
      "outputs": [
        {
          "output_type": "execute_result",
          "data": {
            "text/plain": [
              "[1, 2, 3, 4, 5]"
            ]
          },
          "metadata": {},
          "execution_count": 145
        }
      ]
    },
    {
      "cell_type": "code",
      "source": [],
      "metadata": {
        "id": "9BWlXAWx7Gpv"
      },
      "execution_count": null,
      "outputs": []
    },
    {
      "cell_type": "markdown",
      "source": [
        "# Task 6 is_palindrome"
      ],
      "metadata": {
        "id": "QnT4Zfud78O-"
      }
    },
    {
      "cell_type": "markdown",
      "source": [
        "Description: Write a Python function called is_palindrome that takes a string as input and returns True if the string is a palindrome, and False otherwise. A palindrome is a word, phrase, number, or other sequences of characters that reads the same forward and backward, ignoring spaces, punctuation, and capitalization.\n",
        "\n",
        "Example:\n",
        "\n",
        "python\n",
        "Copy code\n",
        "Example Input\n",
        "input_str = \"A man a plan a canal Panama\"\n",
        "\n",
        " Expected Output\n",
        "True\n",
        "Write the is_palindrome function, and once you're done, share the code with me. I'll check it and provide feedback!"
      ],
      "metadata": {
        "id": "wCi_xy4QIncc"
      }
    },
    {
      "cell_type": "code",
      "source": [
        "def is_palindrome():\n",
        "  string = input('Enter the string to check if it is a palindrome: ')\n",
        "  punc = '!()-[]{};:,<>./?@#$%^&*_~1234567890'\n",
        "  string = string.upper()\n",
        "  res = \"\"\n",
        "  for char in string:\n",
        "    if char not in punc:\n",
        "          res += char\n",
        "\n",
        "  res = res.replace(' ', '')\n",
        "  return res == res[::-1]\n",
        "\n",
        "is_palindrome()"
      ],
      "metadata": {
        "colab": {
          "base_uri": "https://localhost:8080/"
        },
        "id": "Hi6YItnV8Aot",
        "outputId": "ebf61320-da24-4404-a6ac-aa6a676613c8"
      },
      "execution_count": null,
      "outputs": [
        {
          "name": "stdout",
          "output_type": "stream",
          "text": [
            "Enter the string to check if it is a palindrome: A man a plan a canal Panama\n"
          ]
        },
        {
          "output_type": "execute_result",
          "data": {
            "text/plain": [
              "True"
            ]
          },
          "metadata": {},
          "execution_count": 3
        }
      ]
    },
    {
      "cell_type": "code",
      "source": [
        "def paindrm(string):\n",
        "  punc = '!()-[]{};:,<>./?@#$%^&*_~1234567890'\n",
        "  string=string.upper()\n",
        "  clen_string=''.join(char for char in string if char not in punc)\n",
        "  clen_string=clen_string.replace(' ',\"\")\n",
        "\n",
        "  return clen_string == clen_string[::-1]"
      ],
      "metadata": {
        "id": "U5EcCeGzCcVH"
      },
      "execution_count": null,
      "outputs": []
    },
    {
      "cell_type": "code",
      "source": [
        "paindrm('A man a????;[.[[]]] plan a can5555al Panama')"
      ],
      "metadata": {
        "colab": {
          "base_uri": "https://localhost:8080/"
        },
        "id": "KLwKb1bjDsGX",
        "outputId": "9ba79185-f238-4a2b-af8f-e7497a902a1f"
      },
      "execution_count": null,
      "outputs": [
        {
          "output_type": "execute_result",
          "data": {
            "text/plain": [
              "True"
            ]
          },
          "metadata": {},
          "execution_count": 13
        }
      ]
    },
    {
      "cell_type": "markdown",
      "source": [
        "# Task 7 count_vowels"
      ],
      "metadata": {
        "id": "hdVcp5UkEx-n"
      }
    },
    {
      "cell_type": "markdown",
      "source": [
        "\n",
        "Description: Write a Python function called count_vowels that takes a string as input and returns the count of vowels (both uppercase and lowercase) in the given string.\n",
        "\n",
        "Example:\n",
        "\n",
        "python\n",
        "Copy code\n",
        "Example Input\n",
        "input_str = \"Hello World\"\n",
        "\n",
        "Expected Output\n",
        "3 (since there are three vowels: e, o, o)\n",
        "\n",
        "Write the count_vowels function, and once you're done, share the code with me. I'll check it and provide feedback!"
      ],
      "metadata": {
        "id": "VfynmJQcEpQ7"
      }
    },
    {
      "cell_type": "code",
      "source": [
        "def count_vowels():\n",
        "  vw=['a', 'e', 'i', 'o', 'u', 'A', 'E', 'I', 'O', 'U']\n",
        "  string=input('Enter the string to count vowels')\n",
        "  cou_vw=\"\"\n",
        "  for i in string:\n",
        "    if i in vw:\n",
        "      cou_vw += i\n",
        "  cou_vw1=list(cou_vw)\n",
        "  cou_vw=len(cou_vw)\n",
        "\n",
        "  return 'total vowels in this string ',cou_vw ,'These are the vowels in this string',cou_vw1\n"
      ],
      "metadata": {
        "id": "xU5hkN9RD9TW"
      },
      "execution_count": null,
      "outputs": []
    },
    {
      "cell_type": "code",
      "source": [
        "count_vowels()"
      ],
      "metadata": {
        "colab": {
          "base_uri": "https://localhost:8080/"
        },
        "id": "qV6dcsw7GB_n",
        "outputId": "3b4c926a-78bc-496f-b661-cf189922e5c4"
      },
      "execution_count": null,
      "outputs": [
        {
          "name": "stdout",
          "output_type": "stream",
          "text": [
            "Enter the string to count vowelshello world\n"
          ]
        },
        {
          "output_type": "execute_result",
          "data": {
            "text/plain": [
              "('total vowels in this string ',\n",
              " 3,\n",
              " 'These are the vowels in this string',\n",
              " ['e', 'o', 'o'])"
            ]
          },
          "metadata": {},
          "execution_count": 35
        }
      ]
    },
    {
      "cell_type": "markdown",
      "source": [
        "# Task 8 factorial"
      ],
      "metadata": {
        "id": "B7pFDL5HJzkf"
      }
    },
    {
      "cell_type": "markdown",
      "source": [
        "\n",
        "Description: Write a Python function called factorial that takes a non-negative integer as input and returns its factorial. The factorial of a non-negative integer n is the product of all positive integers less than or equal to n.\n",
        "\n",
        "Example:\n",
        "\n",
        "python\n",
        "Copy code\n",
        "Example Input\n",
        "n = 5\n",
        "\n",
        " Expected Output\n",
        " 120 (since 5! = 5 * 4 * 3 * 2 * 1 = 120)\n",
        "Write the factorial function, and once you're done, share the code with me. I'll check it and provide feedback!"
      ],
      "metadata": {
        "id": "_3juhGqoJqkh"
      }
    },
    {
      "cell_type": "code",
      "source": [
        "def factorial():\n",
        "  a=1\n",
        "  num=int(input('Enter the number to find the factorial '))\n",
        "  if num < 0:\n",
        "    print('No negative numbers are allowd')\n",
        "  elif num == 0:\n",
        "    print('Factorial of 0  is 1')\n",
        "  else:\n",
        "    for i in range(1,num+1):\n",
        "      a=a*i\n",
        "    print(f'Factorial of {num}  is {a}')"
      ],
      "metadata": {
        "id": "aUx9e6mMGEW2"
      },
      "execution_count": null,
      "outputs": []
    },
    {
      "cell_type": "code",
      "source": [
        "factorial()"
      ],
      "metadata": {
        "colab": {
          "base_uri": "https://localhost:8080/"
        },
        "id": "YxEUmiG3KrSS",
        "outputId": "be7aa5e9-730a-4446-e637-4e81ebb2c23c"
      },
      "execution_count": null,
      "outputs": [
        {
          "output_type": "stream",
          "name": "stdout",
          "text": [
            "Enter the number to find the factorial 5\n",
            "Factorial of 5  is 120\n"
          ]
        }
      ]
    },
    {
      "cell_type": "code",
      "source": [
        "1*2*3*4*5"
      ],
      "metadata": {
        "colab": {
          "base_uri": "https://localhost:8080/"
        },
        "id": "QcGlcP26SD0W",
        "outputId": "451007ec-fbf6-4a72-bfe7-334d0d591715"
      },
      "execution_count": null,
      "outputs": [
        {
          "output_type": "execute_result",
          "data": {
            "text/plain": [
              "120"
            ]
          },
          "metadata": {},
          "execution_count": 44
        }
      ]
    },
    {
      "cell_type": "markdown",
      "source": [
        "# Task 9 largest_element"
      ],
      "metadata": {
        "id": "IpIW63knU93Z"
      }
    },
    {
      "cell_type": "markdown",
      "source": [
        "\n",
        "Description: Write a Python function called largest_element that takes a list of numbers as input and returns the largest element in the list.\n",
        "\n",
        "Example:\n",
        "\n",
        "python\n",
        "Copy code\n",
        "\n",
        " Example Input\n",
        "numbers = [4, 7, 1, 9, 3, 8]\n",
        "\n",
        " Expected Output\n",
        " 9 (since 9 is the largest element in the list)\n",
        "\n",
        "Write the largest_element function, and once you're done, share the code with me. I'll check it and provide feedback!"
      ],
      "metadata": {
        "id": "vjj3wxvqUz0z"
      }
    },
    {
      "cell_type": "code",
      "source": [
        "def largets_element(list1):\n",
        "  return max(list1)"
      ],
      "metadata": {
        "id": "BoCNDBXeSnCH"
      },
      "execution_count": null,
      "outputs": []
    },
    {
      "cell_type": "code",
      "source": [
        "list1=[4, 7, 1, 9, 3, 8]\n",
        "largets_element(list1)"
      ],
      "metadata": {
        "colab": {
          "base_uri": "https://localhost:8080/"
        },
        "id": "xQPweFznVYvB",
        "outputId": "2366f1b3-64a2-41a2-f7fb-b857209cef60"
      },
      "execution_count": null,
      "outputs": [
        {
          "output_type": "execute_result",
          "data": {
            "text/plain": [
              "9"
            ]
          },
          "metadata": {},
          "execution_count": 63
        }
      ]
    },
    {
      "cell_type": "markdown",
      "source": [
        "# Task 10 reverse_dict"
      ],
      "metadata": {
        "id": "00te0fKpXOtM"
      }
    },
    {
      "cell_type": "markdown",
      "source": [],
      "metadata": {
        "id": "yw1B6xJAs5gK"
      }
    },
    {
      "cell_type": "markdown",
      "source": [
        "\n",
        "Description: Write a Python function called reverse_dict that takes a dictionary as input and returns a new dictionary where the keys and values are reversed.\n",
        "\n",
        "Example:\n",
        "\n",
        "python\n",
        "Copy code\n",
        "\n",
        " Example Input\n",
        "input_dict = {'a': 1, 'b': 2, 'c': 3}\n",
        "\n",
        "Expected Output\n",
        " {1: 'a', 2: 'b', 3: 'c'}\n",
        "\n",
        "Write the reverse_dict function, and once you're done, share the code with me. I'll check it and provide feedback!"
      ],
      "metadata": {
        "id": "kJ_30Do-ViLP"
      }
    },
    {
      "cell_type": "code",
      "source": [
        "def reverse_dict(dict1):\n",
        "  new={}\n",
        "  rdict=dict1.keys()\n",
        "  rdict_v=dict1.values()\n",
        "  result=dict(map(lambda i,j: (i,j),rdict_v,rdict))\n",
        "  return result\n",
        "dict1={'a': 1, 'b': 2, 'c': 3}\n",
        "reverse_dict(dict1)"
      ],
      "metadata": {
        "colab": {
          "base_uri": "https://localhost:8080/"
        },
        "id": "rEb2z3_JYAHZ",
        "outputId": "a91cf41b-cf51-4432-db15-b56965816a0a"
      },
      "execution_count": null,
      "outputs": [
        {
          "output_type": "execute_result",
          "data": {
            "text/plain": [
              "{1: 'a', 2: 'b', 3: 'c'}"
            ]
          },
          "metadata": {},
          "execution_count": 85
        }
      ]
    },
    {
      "cell_type": "code",
      "source": [
        "def reverse_dict2(dict1):\n",
        "  return {k:v for v,k in dict1.items()}\n",
        "\n",
        "dict1={'a': 1, 'b': 2, 'c': 3}\n",
        "reverse_dict2(dict1)"
      ],
      "metadata": {
        "colab": {
          "base_uri": "https://localhost:8080/"
        },
        "id": "9KgoOAmcYUBQ",
        "outputId": "1f4259df-e049-4a0f-a0b3-9623b3c28e28"
      },
      "execution_count": null,
      "outputs": [
        {
          "output_type": "execute_result",
          "data": {
            "text/plain": [
              "{1: 'a', 2: 'b', 3: 'c'}"
            ]
          },
          "metadata": {},
          "execution_count": 89
        }
      ]
    },
    {
      "cell_type": "code",
      "source": [
        "\n"
      ],
      "metadata": {
        "id": "0bE3TXwIYVuM"
      },
      "execution_count": null,
      "outputs": []
    },
    {
      "cell_type": "markdown",
      "source": [],
      "metadata": {
        "id": "gMnOz3tZhstZ"
      }
    },
    {
      "cell_type": "markdown",
      "source": [
        "# Task 11 remove_duplicates_sorted"
      ],
      "metadata": {
        "id": "8P03et8jtFOq"
      }
    },
    {
      "cell_type": "markdown",
      "source": [
        "\n",
        "Description: Write a Python function called remove_duplicates_sorted that takes a sorted list as input and returns a new list with duplicates removed while maintaining the original order of elements. The input list is guaranteed to be sorted.\n",
        "\n",
        "Example:\n",
        "\n",
        "python\n",
        "Copy code\n",
        "\n",
        "Example Input\n",
        "sorted_list = [1, 1, 2, 3, 3, 4, 4, 4, 5]\n",
        "\n",
        " Expected Output\n",
        "[1, 2, 3, 4, 5]\n",
        "\n",
        "Write the remove_duplicates_sorted function, and once you're done, share the code with me. I'll check it and provide feedback!"
      ],
      "metadata": {
        "id": "LdYH194ns8-n"
      }
    },
    {
      "cell_type": "code",
      "source": [
        "def remove_duplicates_sorted(list1):\n",
        "  uniq=[]\n",
        "  for i in list1:\n",
        "    if i not in uniq:\n",
        "      uniq.append(i)\n",
        "  return sorted(uniq)\n",
        "\n",
        "list1= [1,100, 1, 2, 3, 3, 4, 4, 4, 5]\n",
        "remove_duplicates_sorted(list1)"
      ],
      "metadata": {
        "colab": {
          "base_uri": "https://localhost:8080/"
        },
        "id": "v4ZDIndltDuP",
        "outputId": "d90301b8-a60b-45c7-afc3-39f7da5b6238"
      },
      "execution_count": null,
      "outputs": [
        {
          "output_type": "execute_result",
          "data": {
            "text/plain": [
              "[1, 2, 3, 4, 5, 100]"
            ]
          },
          "metadata": {},
          "execution_count": 108
        }
      ]
    },
    {
      "cell_type": "code",
      "source": [
        "def remove_duplicates_sorted(list1):\n",
        "  uniq=[]\n",
        "  for i in list1:\n",
        "    if i not in uniq:\n",
        "      uniq.append(i)\n",
        "  dec=sorted(uniq)\n",
        "  return dec[::-1]\n",
        "\n",
        "list1= [1,100, 1, 2, 3, 3, 4, 4, 4, 5]\n",
        "remove_duplicates_sorted(list1)"
      ],
      "metadata": {
        "colab": {
          "base_uri": "https://localhost:8080/"
        },
        "id": "FWXT3J-n-egQ",
        "outputId": "19266e60-c262-4384-d9df-10aaa82a5486"
      },
      "execution_count": null,
      "outputs": [
        {
          "output_type": "execute_result",
          "data": {
            "text/plain": [
              "[100, 5, 4, 3, 2, 1]"
            ]
          },
          "metadata": {},
          "execution_count": 109
        }
      ]
    },
    {
      "cell_type": "markdown",
      "source": [
        "# Task 12  merge_sorted_lists"
      ],
      "metadata": {
        "id": "-3okVNlLDKxD"
      }
    },
    {
      "cell_type": "markdown",
      "source": [
        "Description: Write a Python function called merge_sorted_lists that takes two sorted lists as input and returns a new list that is the sorted merge of the two input lists.\n",
        "\n",
        "Example:\n",
        "\n",
        "python\n",
        "Copy code\n",
        "\n",
        " Example Input\n",
        "list1 = [1, 3, 5, 7]\n",
        "list2 = [2, 4, 6, 8]\n",
        "\n",
        "Expected Output\n",
        " [1, 2, 3, 4, 5, 6, 7, 8]\n",
        "\n",
        "Write the merge_sorted_lists function, and once you're done, share the code with me. I'll check it and provide feedback!"
      ],
      "metadata": {
        "id": "0Ux_68zQCQdF"
      }
    },
    {
      "cell_type": "code",
      "source": [
        "def  merge_sorted_lists(list1,list2):\n",
        "  sor_list1=sorted(list1)\n",
        "  sor_list2=sorted(list2)\n",
        "  return sorted(sor_list1+sor_list2)\n",
        "\n",
        "list1 = [1, 3, 5, 7]\n",
        "list2 = [2, 4, 6, 8]\n",
        "merge_sorted_lists(list2,list1)"
      ],
      "metadata": {
        "colab": {
          "base_uri": "https://localhost:8080/"
        },
        "id": "DxmVNj3nDUEx",
        "outputId": "3a95a2cf-0728-4c8d-be9a-e998473f31d7"
      },
      "execution_count": null,
      "outputs": [
        {
          "output_type": "execute_result",
          "data": {
            "text/plain": [
              "[1, 2, 3, 4, 5, 6, 7, 8]"
            ]
          },
          "metadata": {},
          "execution_count": 116
        }
      ]
    },
    {
      "cell_type": "markdown",
      "source": [
        "# Task 13 capitalize_first_letters"
      ],
      "metadata": {
        "id": "o6436AiXHDg3"
      }
    },
    {
      "cell_type": "markdown",
      "source": [
        "Description: Write a Python function called capitalize_first_letters that takes a string as input and returns a new string where the first letter of each word is capitalized.\n",
        "\n",
        "Example:\n",
        "\n",
        "python\n",
        "\n",
        " Example Input\n",
        "input_str = \"hello world\"\n",
        "\n",
        " Expected Output\n",
        "\"Hello World\"\n",
        "\n",
        "Write the capitalize_first_letters function, and once you're done, share the code with me. I'll check it and provide feedback!"
      ],
      "metadata": {
        "id": "DYsEWI9uEwFH"
      }
    },
    {
      "cell_type": "markdown",
      "source": [
        "## capitalize()"
      ],
      "metadata": {
        "id": "ON0zPq_lIGKw"
      }
    },
    {
      "cell_type": "code",
      "source": [
        "def capitalize_first_letters(string):\n",
        "    return string.capitalize()\n",
        "\n",
        "string='hello world'\n",
        "result=capitalize_first_letters(string)\n",
        "print(result)"
      ],
      "metadata": {
        "colab": {
          "base_uri": "https://localhost:8080/"
        },
        "id": "S8fzVaz8HLbb",
        "outputId": "0ca758b0-fd65-4b46-d66a-3abf9dc5d9d8"
      },
      "execution_count": null,
      "outputs": [
        {
          "output_type": "stream",
          "name": "stdout",
          "text": [
            "Hello world\n"
          ]
        }
      ]
    },
    {
      "cell_type": "markdown",
      "source": [
        "## title()"
      ],
      "metadata": {
        "id": "MgH3wZi4IMFP"
      }
    },
    {
      "cell_type": "code",
      "source": [
        "def capitalize_first_letters(string):\n",
        "    return string.title()\n",
        "\n",
        "string='hello world'\n",
        "result=capitalize_first_letters(string)\n",
        "print(result)"
      ],
      "metadata": {
        "colab": {
          "base_uri": "https://localhost:8080/"
        },
        "id": "coOHXa9lIFCT",
        "outputId": "1fef2f6d-4f42-4106-cca7-491aa9917d4b"
      },
      "execution_count": null,
      "outputs": [
        {
          "output_type": "stream",
          "name": "stdout",
          "text": [
            "Hello World\n"
          ]
        }
      ]
    },
    {
      "cell_type": "code",
      "source": [],
      "metadata": {
        "id": "uXTOG_fWIjXB"
      },
      "execution_count": null,
      "outputs": []
    },
    {
      "cell_type": "markdown",
      "source": [
        "# Task 13 average_list"
      ],
      "metadata": {
        "id": "jv-49bgvH5hh"
      }
    },
    {
      "cell_type": "markdown",
      "source": [
        "Write a Python function called average_list that takes a list of numbers as input and returns the average (mean) of the numbers.\n",
        "\n",
        "Example:\n",
        "\n",
        "python\n",
        "Copy code\n",
        "\n",
        "Example Input\n",
        "numbers = [1, 2, 3, 4, 5]\n",
        "\n",
        "Expected Output\n",
        "3.0 (since (1+2+3+4+5)/5 = 3.0)\n",
        "\n",
        "Write the average_list function, and once you're done, share the code with me. I'll check it and provide feedback!"
      ],
      "metadata": {
        "id": "Kh9RnONAIXmd"
      }
    },
    {
      "cell_type": "code",
      "source": [
        "def average_list(list1):\n",
        "    sum1=sum(list1)\n",
        "    avarage=sum1/len(list1)\n",
        "    return round(avarage,2)\n",
        "\n",
        "list1=[1,2,3,4,5]\n",
        "average_list(list1)"
      ],
      "metadata": {
        "colab": {
          "base_uri": "https://localhost:8080/"
        },
        "id": "JOyrZ97aIkyv",
        "outputId": "f40d9c01-4570-4eef-f09e-0e09834284b4"
      },
      "execution_count": null,
      "outputs": [
        {
          "output_type": "execute_result",
          "data": {
            "text/plain": [
              "3.0"
            ]
          },
          "metadata": {},
          "execution_count": 130
        }
      ]
    },
    {
      "cell_type": "markdown",
      "source": [
        "# Task 14 count_chars"
      ],
      "metadata": {
        "id": "V73luk9hI2kp"
      }
    },
    {
      "cell_type": "markdown",
      "source": [
        "\n",
        "Description: Write a Python function called count_chars that takes a string as input and returns a dictionary containing the count of each character in the string.\n",
        "\n",
        "Example:\n",
        "\n",
        "python\n",
        "Copy code\n",
        " Example Input\n",
        "input_str = \"hello\"\n",
        "\n",
        " Expected Output\n",
        " {'h': 1, 'e': 1, 'l': 2, 'o': 1}\n",
        "Write the count_chars function, and once you're done, share the code with me. I'll check it and provide feedback!"
      ],
      "metadata": {
        "id": "NmsnZUfCJv07"
      }
    },
    {
      "cell_type": "code",
      "source": [
        "def count_chars1 (hello):\n",
        "\n",
        "    char=[]\n",
        "    count1=[]\n",
        "    if \" \" in hello:\n",
        "        hello=hello.replace(' ','')\n",
        "\n",
        "\n",
        "    for i in hello:\n",
        "        if i not in char :\n",
        "            count1.append(hello.count(i))\n",
        "        if i not in char:\n",
        "            char.append(i)\n",
        "\n",
        "    return{k:v for (k,v) in  zip(char,count1)}\n",
        "\n",
        "input_str='kdfakjgajtieqjgnadvkdsjjasdkdgjkl;jgadkvadgnalkdjlsjfkasjdfklasjdfkasjdf;lakdjkjdkdgadfgjkajkdhjksdfoiergkjsdavjadngkjasdhgkasjdjasdfhkjdfhakjsdgkjadsgkjadsgkadgdnfkajgkladjfgklajklsdjglkajglkfgdfkgjdslfkgdkgmalgaldg daflgkjadflkg adg lkdfjgladfgkladfjg sa dfklgklsdfgjldajgldjgofjglrtjhoisglsdfbdlsfkgsdlkjads  glkdajfgladkfgldgjdlfgjalkdgjnbsdlkfjgladgjorihaflgsfkhjbositjhkflsdgblskfjhlsdjg5906itw4lkjgsldfkgjslkgjo5yrklslfhjsljhsflkj'\n",
        "\n",
        "result1=count_chars1(input_str)\n",
        "print(result1)"
      ],
      "metadata": {
        "colab": {
          "base_uri": "https://localhost:8080/"
        },
        "id": "djpWI3OIJ2Us",
        "outputId": "90eb012b-fac2-493b-866e-bab56805a4cf"
      },
      "execution_count": 32,
      "outputs": [
        {
          "output_type": "stream",
          "name": "stdout",
          "text": [
            "{'k': 53, 'd': 58, 'f': 35, 'a': 41, 'j': 57, 'g': 51, 't': 4, 'i': 6, 'e': 2, 'q': 1, 'n': 5, 'v': 3, 's': 34, 'l': 44, ';': 2, 'h': 11, 'o': 6, 'r': 4, 'm': 1, 'b': 4, '5': 2, '9': 1, '0': 1, '6': 1, 'w': 1, '4': 1, 'y': 1}\n"
          ]
        }
      ]
    },
    {
      "cell_type": "code",
      "source": [
        "def count_chars2(input_str):\n",
        "    char_count = {}\n",
        "    if \" \" in input_str:\n",
        "        input_str = input_str.replace(' ', '')\n",
        "    for char in input_str:\n",
        "        if char not in char_count:\n",
        "            char_count[char] = 1\n",
        "        else:\n",
        "            char_count[char] += 1\n",
        "    return char_count\n",
        "\n",
        "# Test the function\n",
        "input_str='kdfakjgajtieqjgnadvkdsjjasdkdgjkl;jgadkvadgnalkdjlsjfkasjdfklasjdfkasjdf;lakdjkjdkdgadfgjkajkdhjksdfoiergkjsdavjadngkjasdhgkasjdjasdfhkjdfhakjsdgkjadsgkjadsgkadgdnfkajgkladjfgklajklsdjglkajglkfgdfkgjdslfkgdkgmalgaldg daflgkjadflkg adg lkdfjgladfgkladfjg sa dfklgklsdfgjldajgldjgofjglrtjhoisglsdfbdlsfkgsdlkjads  glkdajfgladkfgldgjdlfgjalkdgjnbsdlkfjgladgjorihaflgsfkhjbositjhkflsdgblskfjhlsdjg5906itw4lkjgsldfkgjslkgjo5yrklslfhjsljhsflkj'\n",
        "result2 = count_chars2(input_str)\n",
        "print(result2)\n"
      ],
      "metadata": {
        "colab": {
          "base_uri": "https://localhost:8080/"
        },
        "id": "BPjQAAm5KbIw",
        "outputId": "a6115c32-468a-4690-91d9-32792435bd6a"
      },
      "execution_count": 33,
      "outputs": [
        {
          "output_type": "stream",
          "name": "stdout",
          "text": [
            "{'k': 53, 'd': 58, 'f': 35, 'a': 41, 'j': 57, 'g': 51, 't': 4, 'i': 6, 'e': 2, 'q': 1, 'n': 5, 'v': 3, 's': 34, 'l': 44, ';': 2, 'h': 11, 'o': 6, 'r': 4, 'm': 1, 'b': 4, '5': 2, '9': 1, '0': 1, '6': 1, 'w': 1, '4': 1, 'y': 1}\n"
          ]
        }
      ]
    },
    {
      "cell_type": "code",
      "source": [
        "result1== result2"
      ],
      "metadata": {
        "id": "J__nW9xjQFn5",
        "colab": {
          "base_uri": "https://localhost:8080/"
        },
        "outputId": "55b53e6d-59d2-4cba-d5b4-dbb5ef385828"
      },
      "execution_count": 34,
      "outputs": [
        {
          "output_type": "execute_result",
          "data": {
            "text/plain": [
              "True"
            ]
          },
          "metadata": {},
          "execution_count": 34
        }
      ]
    },
    {
      "cell_type": "markdown",
      "source": [
        "# Task 15 find_longest_words"
      ],
      "metadata": {
        "id": "9sXG0gfkOMrg"
      }
    },
    {
      "cell_type": "markdown",
      "source": [
        "\n",
        "Description: Write a Python function called find_longest_words that takes a sentence (a string) as input and returns a list containing all the longest words in the sentence.\n",
        "\n",
        "Example:\n",
        "\n",
        "python\n",
        "\n",
        "Copy code\n",
        "\n",
        " Example Input\n",
        "sentence = \"The quick brown fox jumps over the lazy dog\"\n",
        "\n",
        " Expected Output\n",
        " [\"quick\", \"brown\", \"jumps\"]\n",
        "\n",
        "Write the find_longest_words function, and once you're done, share the code with me. I'll check it and provide feedback!"
      ],
      "metadata": {
        "id": "AgJLGW_4RWEP"
      }
    },
    {
      "cell_type": "code",
      "source": [
        "def find_longest_words(string1):\n",
        "    big_words=[]\n",
        "    big_words_len=[]\n",
        "    list1=string1.split(' ')\n",
        "    for i in list1:\n",
        "        big_words_len.append(len(i))\n",
        "    big_word_len=max(big_words_len)\n",
        "    for i in list1:\n",
        "        if len(i)==big_word_len:\n",
        "            big_words.append(i)\n",
        "    return (big_words)\n",
        "\n",
        "\n",
        "sentence =\"The quick brown fox jumps over the lazy dog\"\n",
        "result=find_longest_words(sentence)\n",
        "print(result)"
      ],
      "metadata": {
        "colab": {
          "base_uri": "https://localhost:8080/"
        },
        "id": "D6Yya6sgRoLv",
        "outputId": "5b2a25e1-be0d-49a5-ad1e-acc8be506189"
      },
      "execution_count": 30,
      "outputs": [
        {
          "output_type": "stream",
          "name": "stdout",
          "text": [
            "['quick', 'brown', 'jumps']\n"
          ]
        }
      ]
    },
    {
      "cell_type": "code",
      "source": [
        "\n"
      ],
      "metadata": {
        "colab": {
          "base_uri": "https://localhost:8080/"
        },
        "id": "u_UA9Pxlfxv7",
        "outputId": "398fcf5b-beff-47be-9809-60d42e883978"
      },
      "execution_count": 16,
      "outputs": [
        {
          "output_type": "execute_result",
          "data": {
            "text/plain": [
              "4"
            ]
          },
          "metadata": {},
          "execution_count": 16
        }
      ]
    },
    {
      "cell_type": "code",
      "source": [],
      "metadata": {
        "id": "WfEYHt5Mg8zW"
      },
      "execution_count": null,
      "outputs": []
    }
  ]
}